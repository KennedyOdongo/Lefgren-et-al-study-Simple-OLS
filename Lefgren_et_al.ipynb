{
 "cells": [
  {
   "cell_type": "markdown",
   "metadata": {},
   "source": [
    "# Lars Lefgren; Matthew Lindquist and David Sims, (2012), Rich Dad, Smart Dad: Decomposing the Intergenerational Transmission of Income, Journal of Political Economy, 120, (2), 268 - 303"
   ]
  },
  {
   "cell_type": "markdown",
   "metadata": {},
   "source": [
    "Using data from the Lefgren et al study, I demonstrate simple OLS in python using the statsmodels library"
   ]
  },
  {
   "cell_type": "code",
   "execution_count": 1,
   "metadata": {},
   "outputs": [],
   "source": [
    "#importing modules....\n",
    "from __future__ import division\n",
    "import pandas as pd\n",
    "import numpy as np\n",
    "import statsmodels.api as sm"
   ]
  },
  {
   "cell_type": "code",
   "execution_count": 2,
   "metadata": {},
   "outputs": [
    {
     "data": {
      "text/html": [
       "<div>\n",
       "<style scoped>\n",
       "    .dataframe tbody tr th:only-of-type {\n",
       "        vertical-align: middle;\n",
       "    }\n",
       "\n",
       "    .dataframe tbody tr th {\n",
       "        vertical-align: top;\n",
       "    }\n",
       "\n",
       "    .dataframe thead th {\n",
       "        text-align: right;\n",
       "    }\n",
       "</style>\n",
       "<table border=\"1\" class=\"dataframe\">\n",
       "  <thead>\n",
       "    <tr style=\"text-align: right;\">\n",
       "      <th></th>\n",
       "      <th>wage</th>\n",
       "      <th>hours</th>\n",
       "      <th>iq</th>\n",
       "      <th>kww</th>\n",
       "      <th>educ</th>\n",
       "      <th>exper</th>\n",
       "      <th>tenure</th>\n",
       "      <th>age</th>\n",
       "      <th>married</th>\n",
       "      <th>black</th>\n",
       "      <th>south</th>\n",
       "      <th>urban</th>\n",
       "      <th>sibs</th>\n",
       "      <th>brthord</th>\n",
       "      <th>meduc</th>\n",
       "      <th>feduc</th>\n",
       "      <th>lwage</th>\n",
       "    </tr>\n",
       "  </thead>\n",
       "  <tbody>\n",
       "    <tr>\n",
       "      <td>0</td>\n",
       "      <td>769</td>\n",
       "      <td>40</td>\n",
       "      <td>93</td>\n",
       "      <td>35</td>\n",
       "      <td>12</td>\n",
       "      <td>11</td>\n",
       "      <td>2</td>\n",
       "      <td>31</td>\n",
       "      <td>1</td>\n",
       "      <td>0</td>\n",
       "      <td>0</td>\n",
       "      <td>1</td>\n",
       "      <td>1</td>\n",
       "      <td>2.0</td>\n",
       "      <td>8.0</td>\n",
       "      <td>8.0</td>\n",
       "      <td>6.645091</td>\n",
       "    </tr>\n",
       "    <tr>\n",
       "      <td>1</td>\n",
       "      <td>808</td>\n",
       "      <td>50</td>\n",
       "      <td>119</td>\n",
       "      <td>41</td>\n",
       "      <td>18</td>\n",
       "      <td>11</td>\n",
       "      <td>16</td>\n",
       "      <td>37</td>\n",
       "      <td>1</td>\n",
       "      <td>0</td>\n",
       "      <td>0</td>\n",
       "      <td>1</td>\n",
       "      <td>1</td>\n",
       "      <td>NaN</td>\n",
       "      <td>14.0</td>\n",
       "      <td>14.0</td>\n",
       "      <td>6.694562</td>\n",
       "    </tr>\n",
       "    <tr>\n",
       "      <td>2</td>\n",
       "      <td>825</td>\n",
       "      <td>40</td>\n",
       "      <td>108</td>\n",
       "      <td>46</td>\n",
       "      <td>14</td>\n",
       "      <td>11</td>\n",
       "      <td>9</td>\n",
       "      <td>33</td>\n",
       "      <td>1</td>\n",
       "      <td>0</td>\n",
       "      <td>0</td>\n",
       "      <td>1</td>\n",
       "      <td>1</td>\n",
       "      <td>2.0</td>\n",
       "      <td>14.0</td>\n",
       "      <td>14.0</td>\n",
       "      <td>6.715384</td>\n",
       "    </tr>\n",
       "    <tr>\n",
       "      <td>3</td>\n",
       "      <td>650</td>\n",
       "      <td>40</td>\n",
       "      <td>96</td>\n",
       "      <td>32</td>\n",
       "      <td>12</td>\n",
       "      <td>13</td>\n",
       "      <td>7</td>\n",
       "      <td>32</td>\n",
       "      <td>1</td>\n",
       "      <td>0</td>\n",
       "      <td>0</td>\n",
       "      <td>1</td>\n",
       "      <td>4</td>\n",
       "      <td>3.0</td>\n",
       "      <td>12.0</td>\n",
       "      <td>12.0</td>\n",
       "      <td>6.476973</td>\n",
       "    </tr>\n",
       "    <tr>\n",
       "      <td>4</td>\n",
       "      <td>562</td>\n",
       "      <td>40</td>\n",
       "      <td>74</td>\n",
       "      <td>27</td>\n",
       "      <td>11</td>\n",
       "      <td>14</td>\n",
       "      <td>5</td>\n",
       "      <td>34</td>\n",
       "      <td>1</td>\n",
       "      <td>0</td>\n",
       "      <td>0</td>\n",
       "      <td>1</td>\n",
       "      <td>10</td>\n",
       "      <td>6.0</td>\n",
       "      <td>6.0</td>\n",
       "      <td>11.0</td>\n",
       "      <td>6.331502</td>\n",
       "    </tr>\n",
       "  </tbody>\n",
       "</table>\n",
       "</div>"
      ],
      "text/plain": [
       "   wage  hours   iq  kww  educ  exper  tenure  age  married  black  south  \\\n",
       "0   769     40   93   35    12     11       2   31        1      0      0   \n",
       "1   808     50  119   41    18     11      16   37        1      0      0   \n",
       "2   825     40  108   46    14     11       9   33        1      0      0   \n",
       "3   650     40   96   32    12     13       7   32        1      0      0   \n",
       "4   562     40   74   27    11     14       5   34        1      0      0   \n",
       "\n",
       "   urban  sibs  brthord  meduc  feduc     lwage  \n",
       "0      1     1      2.0    8.0    8.0  6.645091  \n",
       "1      1     1      NaN   14.0   14.0  6.694562  \n",
       "2      1     1      2.0   14.0   14.0  6.715384  \n",
       "3      1     4      3.0   12.0   12.0  6.476973  \n",
       "4      1    10      6.0    6.0   11.0  6.331502  "
      ]
     },
     "execution_count": 2,
     "metadata": {},
     "output_type": "execute_result"
    }
   ],
   "source": [
    "#read in the data\n",
    "hw3=pd.read_stata(r\"C:\\Users\\Rodgers\\Desktop\\PhD courses\\PhD courses\\EconS 593 Cowan\\nls80.dta\")\n",
    "df=pd.DataFrame(data=hw3)\n",
    "df.head()"
   ]
  },
  {
   "cell_type": "code",
   "execution_count": 3,
   "metadata": {},
   "outputs": [],
   "source": [
    "#This code fills in the missing values in the fathers education columnn with zero's. If you don't do this python will not run this \n",
    "#code.\n",
    "df[\"feduc\"] = df[\"feduc\"].fillna(0)\n"
   ]
  },
  {
   "cell_type": "code",
   "execution_count": 4,
   "metadata": {},
   "outputs": [],
   "source": [
    "#purge the rows that have inf's and NaNs\n",
    "#df[~df.isin([np.nan, np.inf, -np.inf]).any(1)]\n",
    "#Ignore this piece of code, I'm just toying around with the model to see how it perfoms\n"
   ]
  },
  {
   "cell_type": "code",
   "execution_count": 5,
   "metadata": {},
   "outputs": [
    {
     "name": "stdout",
     "output_type": "stream",
     "text": [
      "                                 OLS Regression Results                                \n",
      "=======================================================================================\n",
      "Dep. Variable:                  lwage   R-squared (uncentered):                   0.726\n",
      "Model:                            OLS   Adj. R-squared (uncentered):              0.725\n",
      "Method:                 Least Squares   F-statistic:                              2470.\n",
      "Date:                Mon, 06 Apr 2020   Prob (F-statistic):                   1.50e-264\n",
      "Time:                        08:54:02   Log-Likelihood:                         -2513.3\n",
      "No. Observations:                 935   AIC:                                      5029.\n",
      "Df Residuals:                     934   BIC:                                      5033.\n",
      "Df Model:                           1                                                  \n",
      "Covariance Type:            nonrobust                                                  \n",
      "==============================================================================\n",
      "                 coef    std err          t      P>|t|      [0.025      0.975]\n",
      "------------------------------------------------------------------------------\n",
      "feduc          0.6053      0.012     49.703      0.000       0.581       0.629\n",
      "==============================================================================\n",
      "Omnibus:                      104.431   Durbin-Watson:                   1.384\n",
      "Prob(Omnibus):                  0.000   Jarque-Bera (JB):               50.952\n",
      "Skew:                           0.402   Prob(JB):                     8.63e-12\n",
      "Kurtosis:                       2.186   Cond. No.                         1.00\n",
      "==============================================================================\n",
      "\n",
      "Warnings:\n",
      "[1] Standard Errors assume that the covariance matrix of the errors is correctly specified.\n"
     ]
    }
   ],
   "source": [
    "#lets run an ols model with this data\n",
    "#I run this OLS regression with missing values set to zero. I thought that this was better than purging all the row's with missing data\n",
    "#from the set#\n",
    "#The model here is a simple one:lnwage=a+b.feduc+e\n",
    "a=df.lwage\n",
    "b=df.feduc\n",
    "model=sm.OLS(a,b).fit()\n",
    "model_prediciton=model.predict(b)\n",
    "model_details=model.summary()\n",
    "print(model_details)"
   ]
  },
  {
   "cell_type": "code",
   "execution_count": 12,
   "metadata": {},
   "outputs": [],
   "source": [
    "#IV regression.\n",
    "#from statsmodels.sandbox.regression.gmm import IV2SLS\n",
    "#import seaborn as sns\n",
    "#lets estimate the following IV regression.\n",
    "# Lets do this one lnwage=a +iq + educ + age + feduc+e\n",
    "#We Will use this same equation to to the IV estimate ( Where we will asuume that feduc instruments for educ)\n"
   ]
  },
  {
   "cell_type": "code",
   "execution_count": 6,
   "metadata": {},
   "outputs": [
    {
     "name": "stdout",
     "output_type": "stream",
     "text": [
      "Intercept: \n",
      " 4.945151934695261\n",
      "Coefficients: \n",
      " [0.00542948 0.01960038 0.01216089 0.00832393 0.03565223]\n"
     ]
    }
   ],
   "source": [
    "#Multiple regression\n",
    "# Lets do this one lnwage=a +iq + educ + age + feduc+e\n",
    "from sklearn import linear_model\n",
    "y=df['lwage']\n",
    "x=df[['iq','age','tenure','feduc','educ']]\n",
    "# with sklearn\n",
    "regr = linear_model.LinearRegression()\n",
    "regr.fit(x, y)\n",
    "print('Intercept: \\n', regr.intercept_)\n",
    "print('Coefficients: \\n', regr.coef_)"
   ]
  },
  {
   "cell_type": "code",
   "execution_count": 7,
   "metadata": {},
   "outputs": [
    {
     "name": "stderr",
     "output_type": "stream",
     "text": [
      "C:\\Users\\Rodgers\\Anaconda3\\lib\\site-packages\\numpy\\core\\fromnumeric.py:2389: FutureWarning: Method .ptp is deprecated and will be removed in a future version. Use numpy.ptp instead.\n",
      "  return ptp(axis=axis, out=out, **kwargs)\n"
     ]
    },
    {
     "name": "stdout",
     "output_type": "stream",
     "text": [
      "                            OLS Regression Results                            \n",
      "==============================================================================\n",
      "Dep. Variable:                  lwage   R-squared:                       0.189\n",
      "Model:                            OLS   Adj. R-squared:                  0.185\n",
      "Method:                 Least Squares   F-statistic:                     43.30\n",
      "Date:                Mon, 06 Apr 2020   Prob (F-statistic):           3.49e-40\n",
      "Time:                        08:54:33   Log-Likelihood:                -419.71\n",
      "No. Observations:                 935   AIC:                             851.4\n",
      "Df Residuals:                     929   BIC:                             880.5\n",
      "Df Model:                           5                                         \n",
      "Covariance Type:            nonrobust                                         \n",
      "==============================================================================\n",
      "                 coef    std err          t      P>|t|      [0.025      0.975]\n",
      "------------------------------------------------------------------------------\n",
      "const          4.9452      0.166     29.779      0.000       4.619       5.271\n",
      "iq             0.0054      0.001      5.578      0.000       0.004       0.007\n",
      "age            0.0196      0.004      4.670      0.000       0.011       0.028\n",
      "tenure         0.0122      0.003      4.753      0.000       0.007       0.017\n",
      "feduc          0.0083      0.003      3.171      0.002       0.003       0.013\n",
      "educ           0.0357      0.007      5.210      0.000       0.022       0.049\n",
      "==============================================================================\n",
      "Omnibus:                       26.915   Durbin-Watson:                   1.825\n",
      "Prob(Omnibus):                  0.000   Jarque-Bera (JB):               43.494\n",
      "Skew:                          -0.237   Prob(JB):                     3.59e-10\n",
      "Kurtosis:                       3.945   Cond. No.                     1.45e+03\n",
      "==============================================================================\n",
      "\n",
      "Warnings:\n",
      "[1] Standard Errors assume that the covariance matrix of the errors is correctly specified.\n",
      "[2] The condition number is large, 1.45e+03. This might indicate that there are\n",
      "strong multicollinearity or other numerical problems.\n"
     ]
    }
   ],
   "source": [
    "#With statsmodels.api\n",
    "x = sm.add_constant(x)\n",
    "model=sm.OLS(y,x).fit()\n",
    "model_prediciton=model.predict(x)\n",
    "model_details=model.summary()\n",
    "print(model_details)"
   ]
  },
  {
   "cell_type": "code",
   "execution_count": 11,
   "metadata": {},
   "outputs": [
    {
     "name": "stdout",
     "output_type": "stream",
     "text": [
      "                            OLS Regression Results                            \n",
      "==============================================================================\n",
      "Dep. Variable:                  lwage   R-squared:                       0.189\n",
      "Model:                            OLS   Adj. R-squared:                  0.185\n",
      "Method:                 Least Squares   F-statistic:                     42.62\n",
      "Date:                Mon, 06 Apr 2020   Prob (F-statistic):           1.36e-39\n",
      "Time:                        09:17:35   Log-Likelihood:                -419.71\n",
      "No. Observations:                 935   AIC:                             851.4\n",
      "Df Residuals:                     929   BIC:                             880.5\n",
      "Df Model:                           5                                         \n",
      "Covariance Type:                  HC1                                         \n",
      "==============================================================================\n",
      "                 coef    std err          t      P>|t|      [0.025      0.975]\n",
      "------------------------------------------------------------------------------\n",
      "Intercept      4.9452      0.168     29.417      0.000       4.615       5.275\n",
      "iq             0.0054      0.001      5.596      0.000       0.004       0.007\n",
      "age            0.0196      0.004      4.599      0.000       0.011       0.028\n",
      "tenure         0.0122      0.003      4.611      0.000       0.007       0.017\n",
      "feduc          0.0083      0.003      3.115      0.002       0.003       0.014\n",
      "educ           0.0357      0.007      4.973      0.000       0.022       0.050\n",
      "==============================================================================\n",
      "Omnibus:                       26.915   Durbin-Watson:                   1.825\n",
      "Prob(Omnibus):                  0.000   Jarque-Bera (JB):               43.494\n",
      "Skew:                          -0.237   Prob(JB):                     3.59e-10\n",
      "Kurtosis:                       3.945   Cond. No.                     1.45e+03\n",
      "==============================================================================\n",
      "\n",
      "Warnings:\n",
      "[1] Standard Errors are heteroscedasticity robust (HC1)\n",
      "[2] The condition number is large, 1.45e+03. This might indicate that there are\n",
      "strong multicollinearity or other numerical problems.\n"
     ]
    }
   ],
   "source": [
    "#Running OLS with the covariates we need to identify pi-1 and pi-2\n",
    "import statsmodels.formula.api as smf\n",
    "results = smf.ols('lwage ~ iq +age+tenure+feduc+educ',data=df).fit()\n",
    "results_robust = results.get_robustcov_results()\n",
    "print(results_robust.summary())"
   ]
  },
  {
   "cell_type": "code",
   "execution_count": null,
   "metadata": {},
   "outputs": [],
   "source": [
    "#There it is, simple OLS in python."
   ]
  }
 ],
 "metadata": {
  "kernelspec": {
   "display_name": "Python 3",
   "language": "python",
   "name": "python3"
  },
  "language_info": {
   "codemirror_mode": {
    "name": "ipython",
    "version": 3
   },
   "file_extension": ".py",
   "mimetype": "text/x-python",
   "name": "python",
   "nbconvert_exporter": "python",
   "pygments_lexer": "ipython3",
   "version": "3.7.4"
  }
 },
 "nbformat": 4,
 "nbformat_minor": 2
}
